{
 "cells": [
  {
   "cell_type": "code",
   "execution_count": 31,
   "metadata": {},
   "outputs": [
    {
     "name": "stdout",
     "output_type": "stream",
     "text": [
      "The autoreload extension is already loaded. To reload it, use:\n",
      "  %reload_ext autoreload\n"
     ]
    }
   ],
   "source": [
    "%load_ext autoreload\n",
    "%autoreload 2"
   ]
  },
  {
   "cell_type": "code",
   "execution_count": 32,
   "metadata": {},
   "outputs": [],
   "source": [
    "import json\n",
    "import os\n",
    "import glob\n",
    "\n",
    "with open('data/slots/time_slots.json', 'r') as f:\n",
    "    slots_data = json.load(f)\n",
    "\n",
    "with open('data/obrony/obrony.json', 'r') as f:\n",
    "    defences_data = json.load(f)\n",
    "\n",
    "with open('data/people/przewodniczacy.json', 'r') as f:\n",
    "    chairmans = json.load(f)\n",
    "\n",
    "with open('data/people/workers.json', 'r') as f:\n",
    "    members = json.load(f)"
   ]
  },
  {
   "cell_type": "code",
   "execution_count": 33,
   "metadata": {},
   "outputs": [
    {
     "name": "stdout",
     "output_type": "stream",
     "text": [
      "['data/examples\\\\0.json', 'data/examples\\\\1.json', 'data/examples\\\\2.json', 'data/examples\\\\3.json', 'data/examples\\\\4.json', 'data/examples\\\\5.json', 'data/examples\\\\6.json', 'data/examples\\\\7.json', 'data/examples\\\\8.json', 'data/examples\\\\9.json', 'data/examples\\\\10.json', 'data/examples\\\\11.json', 'data/examples\\\\12.json', 'data/examples\\\\13.json', 'data/examples\\\\14.json', 'data/examples\\\\15.json', 'data/examples\\\\16.json', 'data/examples\\\\17.json', 'data/examples\\\\18.json', 'data/examples\\\\19.json', 'data/examples\\\\20.json', 'data/examples\\\\21.json', 'data/examples\\\\22.json', 'data/examples\\\\23.json', 'data/examples\\\\24.json', 'data/examples\\\\25.json', 'data/examples\\\\26.json', 'data/examples\\\\27.json', 'data/examples\\\\28.json', 'data/examples\\\\29.json', 'data/examples\\\\30.json', 'data/examples\\\\31.json', 'data/examples\\\\32.json', 'data/examples\\\\33.json', 'data/examples\\\\34.json', 'data/examples\\\\35.json', 'data/examples\\\\36.json', 'data/examples\\\\37.json', 'data/examples\\\\38.json', 'data/examples\\\\39.json', 'data/examples\\\\40.json', 'data/examples\\\\41.json', 'data/examples\\\\42.json', 'data/examples\\\\43.json', 'data/examples\\\\44.json', 'data/examples\\\\45.json', 'data/examples\\\\46.json', 'data/examples\\\\47.json', 'data/examples\\\\48.json', 'data/examples\\\\49.json', 'data/examples\\\\50.json', 'data/examples\\\\51.json', 'data/examples\\\\52.json', 'data/examples\\\\53.json', 'data/examples\\\\54.json', 'data/examples\\\\55.json', 'data/examples\\\\56.json', 'data/examples\\\\57.json', 'data/examples\\\\58.json', 'data/examples\\\\59.json', 'data/examples\\\\60.json', 'data/examples\\\\61.json', 'data/examples\\\\62.json', 'data/examples\\\\63.json', 'data/examples\\\\64.json', 'data/examples\\\\65.json', 'data/examples\\\\66.json', 'data/examples\\\\67.json', 'data/examples\\\\68.json', 'data/examples\\\\69.json', 'data/examples\\\\70.json', 'data/examples\\\\71.json', 'data/examples\\\\72.json', 'data/examples\\\\73.json', 'data/examples\\\\74.json', 'data/examples\\\\75.json', 'data/examples\\\\76.json', 'data/examples\\\\77.json', 'data/examples\\\\78.json', 'data/examples\\\\79.json', 'data/examples\\\\80.json', 'data/examples\\\\81.json', 'data/examples\\\\82.json', 'data/examples\\\\83.json', 'data/examples\\\\84.json', 'data/examples\\\\85.json', 'data/examples\\\\86.json', 'data/examples\\\\87.json', 'data/examples\\\\88.json', 'data/examples\\\\89.json', 'data/examples\\\\90.json', 'data/examples\\\\91.json', 'data/examples\\\\92.json', 'data/examples\\\\93.json', 'data/examples\\\\94.json', 'data/examples\\\\95.json', 'data/examples\\\\96.json', 'data/examples\\\\97.json', 'data/examples\\\\98.json', 'data/examples\\\\99.json']\n"
     ]
    }
   ],
   "source": [
    "import os\n",
    "\n",
    "folder_path = 'data/examples'\n",
    "\n",
    "# Get all file names in the folder\n",
    "file_names = os.listdir(folder_path)\n",
    "\n",
    "# Sort file names numerically\n",
    "sorted_file_names = sorted(file_names, key=lambda x: int(x.split('.')[0]))\n",
    "\n",
    "# Create a list of file paths\n",
    "examples_list = [os.path.join(folder_path, file_name) for file_name in sorted_file_names]\n",
    "\n",
    "# Print the file paths\n",
    "print(examples_list)"
   ]
  },
  {
   "cell_type": "code",
   "execution_count": 34,
   "metadata": {},
   "outputs": [],
   "source": [
    "# examples_list = [examples_list[34]]\n",
    "# examples_list"
   ]
  },
  {
   "cell_type": "code",
   "execution_count": 35,
   "metadata": {},
   "outputs": [],
   "source": [
    "from Defence_slots import Defence, Slot\n",
    "\n",
    "defences = [Defence(person_data[\"student\"], person_data[\"promotor\"], person_data[\"recenzent\"]) for person_data in defences_data]\n",
    "\n",
    "slots = [Slot(index, time) for index, time in slots_data.items()]"
   ]
  },
  {
   "cell_type": "code",
   "execution_count": 36,
   "metadata": {},
   "outputs": [],
   "source": [
    "from Environment import Environment\n",
    "from State_action import Action\n",
    "from algorithm import Qlearning\n",
    "from create_data_for_Q import Examples_dataset\n",
    "\n",
    "q_list = []\n",
    "\n",
    "for example in examples_list[:2]:\n",
    "    dataset = Examples_dataset(example, chairmans)\n",
    "    availability = dataset.create_availability()\n",
    "    env = Environment(defences, slots, chairmans, members, availability)\n",
    "    q_algo = Qlearning(env)\n",
    "    q_list.append(q_algo)"
   ]
  },
  {
   "cell_type": "code",
   "execution_count": 37,
   "metadata": {},
   "outputs": [
    {
     "name": "stdout",
     "output_type": "stream",
     "text": [
      "Episode finished.\n",
      "Episode finished.\n",
      "Episode finished.\n"
     ]
    }
   ],
   "source": [
    "count_list = []\n",
    "min_count = 30\n",
    "best_schedule = None\n",
    "i = 0\n",
    "\n",
    "for q_algo in q_list:\n",
    "    filled_Q_table = q_algo.qlearning_algorithm()\n",
    "    schedule, count = q_algo.create_schedule()\n",
    "    if count < min_count:\n",
    "        min_count = count\n",
    "        best_schedule = schedule\n",
    "        i_min = i\n",
    "    count_list.append(count)\n",
    "    i += 1"
   ]
  },
  {
   "cell_type": "code",
   "execution_count": 52,
   "metadata": {},
   "outputs": [
    {
     "name": "stdout",
     "output_type": "stream",
     "text": [
      "Defence exam: student: Ernest Pietuszyński, promoter: dr hab. T.Gambin, prof. PW, reviewer: prof. dr hab. P.Rokita\n",
      "Defence exam: student: Mariusz Rzehorzek, promoter: dr inż. P.Zawistowski, reviewer: dr inż. G.Blinowski\n",
      "Defence exam: student: Krzysztof Arciszewski, promoter: dr J.Komorowski, reviewer: dr inż. M.Kozłowski\n",
      "Defence exam: student: Danuta Amsko, promoter: dr inż. M.Chwesiuk, reviewer: dr hab. R.Nowak, prof. PW\n"
     ]
    }
   ],
   "source": [
    "for defence in best_schedule:\n",
    "    print(defence[0])"
   ]
  },
  {
   "cell_type": "code",
   "execution_count": 38,
   "metadata": {},
   "outputs": [],
   "source": [
    "import pandas as pd\n",
    "\n",
    "df = pd.DataFrame({'index': range(len(count_list)), 'value': count_list})\n",
    "\n",
    "df.to_json('count.json', orient='records', lines=True)"
   ]
  },
  {
   "cell_type": "code",
   "execution_count": 39,
   "metadata": {},
   "outputs": [
    {
     "name": "stdout",
     "output_type": "stream",
     "text": [
      "26\n"
     ]
    }
   ],
   "source": [
    "print(min(count_list))"
   ]
  },
  {
   "cell_type": "code",
   "execution_count": 40,
   "metadata": {},
   "outputs": [
    {
     "name": "stdout",
     "output_type": "stream",
     "text": [
      "[26, 26]\n"
     ]
    }
   ],
   "source": [
    "print(count_list)"
   ]
  },
  {
   "cell_type": "code",
   "execution_count": 41,
   "metadata": {},
   "outputs": [
    {
     "data": {
      "text/plain": [
       "0"
      ]
     },
     "execution_count": 41,
     "metadata": {},
     "output_type": "execute_result"
    }
   ],
   "source": [
    "i_min"
   ]
  },
  {
   "cell_type": "code",
   "execution_count": 42,
   "metadata": {},
   "outputs": [],
   "source": [
    "def print_defence_action(schedule):\n",
    "    state, action, reward = schedule\n",
    "    print(state)\n",
    "    print(action)\n",
    "    print(reward)"
   ]
  },
  {
   "cell_type": "code",
   "execution_count": 43,
   "metadata": {},
   "outputs": [],
   "source": [
    "# print_defence_action(best_schedule[17])"
   ]
  },
  {
   "cell_type": "code",
   "execution_count": 44,
   "metadata": {},
   "outputs": [],
   "source": [
    "# import pandas as pd\n",
    "\n",
    "# best_schedule_defence, best_schedule_action = best_schedule\n",
    "\n",
    "# # Convert schedule to a list of dictionaries\n",
    "# schedule_dicts = [action.__dict__ for action in best_schedule_action]\n",
    "\n",
    "# # Convert the list of dictionaries to a DataFrame\n",
    "# df = pd.DataFrame(schedule_dicts)\n",
    "\n",
    "# # Save DataFrame to a JSON file\n",
    "# df.to_json('schedule.json', orient='records', lines=True)\n"
   ]
  }
 ],
 "metadata": {
  "kernelspec": {
   "display_name": "Python 3",
   "language": "python",
   "name": "python3"
  },
  "language_info": {
   "codemirror_mode": {
    "name": "ipython",
    "version": 3
   },
   "file_extension": ".py",
   "mimetype": "text/x-python",
   "name": "python",
   "nbconvert_exporter": "python",
   "pygments_lexer": "ipython3",
   "version": "3.11.2"
  },
  "orig_nbformat": 4
 },
 "nbformat": 4,
 "nbformat_minor": 2
}
